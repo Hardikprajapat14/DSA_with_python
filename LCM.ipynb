{
  "nbformat": 4,
  "nbformat_minor": 0,
  "metadata": {
    "colab": {
      "provenance": []
    },
    "kernelspec": {
      "name": "python3",
      "display_name": "Python 3"
    },
    "language_info": {
      "name": "python"
    }
  },
  "cells": [
    {
      "cell_type": "code",
      "execution_count": 15,
      "metadata": {
        "colab": {
          "base_uri": "https://localhost:8080/"
        },
        "id": "Vlwwol8kG917",
        "outputId": "f62e4d0b-8d96-4b54-90aa-a02cdd761084"
      },
      "outputs": [
        {
          "output_type": "stream",
          "name": "stdout",
          "text": [
            "20\n"
          ]
        }
      ],
      "source": [
        "import math\n",
        "\n",
        "def lcm(a, b):\n",
        "  return (a * b) // math.gcd(a, b)\n",
        "\n",
        "print (lcm(4,5))\n"
      ]
    }
  ]
}