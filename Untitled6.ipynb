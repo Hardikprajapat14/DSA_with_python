{
  "nbformat": 4,
  "nbformat_minor": 0,
  "metadata": {
    "colab": {
      "provenance": []
    },
    "kernelspec": {
      "name": "python3",
      "display_name": "Python 3"
    },
    "language_info": {
      "name": "python"
    }
  },
  "cells": [
    {
      "cell_type": "code",
      "execution_count": null,
      "metadata": {
        "id": "dcEP2ar3U2oG"
      },
      "outputs": [],
      "source": [
        "a=0\n",
        "password = 123\n",
        "while a<3 :\n",
        "  try:\n",
        "    number= int(input(\"pls enter ATm pin : \"))\n",
        "    if number == password :\n",
        "      print (\"Amount debited\")\n",
        "      else:\n",
        "        print(\"No debit\")\n",
        "        a=a+1\n",
        "        except:\n",
        "          print"
      ]
    },
    {
      "cell_type": "code",
      "source": [
        "#lambda functions are used for small, one-time tasks, or when a function is not too complex\n",
        "a = lambda a: a"
      ],
      "metadata": {
        "id": "MrKYsgQjXGbw"
      },
      "execution_count": null,
      "outputs": []
    },
    {
      "cell_type": "code",
      "source": [
        "def sqr(a):\n",
        "  print(a**2)\n"
      ],
      "metadata": {
        "id": "QaC4bobcXX8S"
      },
      "execution_count": null,
      "outputs": []
    },
    {
      "cell_type": "code",
      "source": [
        "sqr(8)"
      ],
      "metadata": {
        "colab": {
          "base_uri": "https://localhost:8080/"
        },
        "id": "sIDNfIk6XggI",
        "outputId": "b959a76e-5089-4621-d1e3-5524f809068b"
      },
      "execution_count": null,
      "outputs": [
        {
          "output_type": "stream",
          "name": "stdout",
          "text": [
            "64\n"
          ]
        }
      ]
    },
    {
      "cell_type": "code",
      "source": [
        "mylist= [1 , 3 , 4 , 5 , 6 ,8 , 10]"
      ],
      "metadata": {
        "id": "1APKKItKYAit"
      },
      "execution_count": null,
      "outputs": []
    },
    {
      "cell_type": "code",
      "source": [
        "#Map in Python is a function that works as an iterator to return a result after applying a function to every item of an iterable (tuple, lists, etc.).\n",
        "#It is used when you want to apply a single transformation function to all the iterable elements.\n",
        "tuple(map(sqr , mylist))"
      ],
      "metadata": {
        "colab": {
          "base_uri": "https://localhost:8080/"
        },
        "id": "sI94ql7wYtl4",
        "outputId": "048cff12-61a1-4011-df8b-aa79a74a2400"
      },
      "execution_count": null,
      "outputs": [
        {
          "output_type": "stream",
          "name": "stdout",
          "text": [
            "1\n",
            "9\n",
            "16\n",
            "25\n",
            "36\n"
          ]
        },
        {
          "output_type": "execute_result",
          "data": {
            "text/plain": [
              "(None, None, None, None, None)"
            ]
          },
          "metadata": {},
          "execution_count": 10
        }
      ]
    },
    {
      "cell_type": "code",
      "source": [
        "def check_even(a):\n",
        "  if a%2==0:\n",
        "    print(a)"
      ],
      "metadata": {
        "id": "-t9fm0AkaweK"
      },
      "execution_count": null,
      "outputs": []
    },
    {
      "cell_type": "code",
      "source": [
        "check_even(10)"
      ],
      "metadata": {
        "colab": {
          "base_uri": "https://localhost:8080/"
        },
        "id": "r-mGXqNwbYKP",
        "outputId": "08fc9164-f63a-4cd7-b8bd-c5d1eef0ff88"
      },
      "execution_count": null,
      "outputs": [
        {
          "output_type": "stream",
          "name": "stdout",
          "text": [
            "10\n"
          ]
        }
      ]
    },
    {
      "cell_type": "code",
      "source": [
        "#filter even number\n",
        "list (filter(check_even, mylist))"
      ],
      "metadata": {
        "colab": {
          "base_uri": "https://localhost:8080/"
        },
        "id": "A0Pg2468cAf3",
        "outputId": "e392d29f-6d99-4791-feb2-7f20dc09720b"
      },
      "execution_count": null,
      "outputs": [
        {
          "output_type": "stream",
          "name": "stdout",
          "text": [
            "4\n",
            "6\n",
            "8\n",
            "10\n"
          ]
        },
        {
          "output_type": "execute_result",
          "data": {
            "text/plain": [
              "[]"
            ]
          },
          "metadata": {},
          "execution_count": 16
        }
      ]
    },
    {
      "cell_type": "code",
      "source": [
        "#greater number\n",
        "def greater_5(a):\n",
        "  if a>5 :\n",
        "    print (a)\n",
        "\n"
      ],
      "metadata": {
        "id": "5Cs8X2n6dpyt"
      },
      "execution_count": null,
      "outputs": []
    },
    {
      "cell_type": "code",
      "source": [
        "list(filter(greater_5,mylist))"
      ],
      "metadata": {
        "colab": {
          "base_uri": "https://localhost:8080/"
        },
        "id": "kMD9PEu2d7st",
        "outputId": "ad4f7642-565f-4b04-aa9a-a977a2ae11f1"
      },
      "execution_count": null,
      "outputs": [
        {
          "output_type": "stream",
          "name": "stdout",
          "text": [
            "6\n",
            "8\n",
            "10\n"
          ]
        },
        {
          "output_type": "execute_result",
          "data": {
            "text/plain": [
              "[]"
            ]
          },
          "metadata": {},
          "execution_count": 20
        }
      ]
    },
    {
      "cell_type": "code",
      "source": [
        "def test():\n",
        "  pass"
      ],
      "metadata": {
        "id": "DfpEvKldeRQA"
      },
      "execution_count": null,
      "outputs": []
    },
    {
      "cell_type": "code",
      "source": [
        "patterns= ['term1','term2','kiki','term4']"
      ],
      "metadata": {
        "id": "PyNs-BwLtIpX"
      },
      "execution_count": null,
      "outputs": []
    },
    {
      "cell_type": "code",
      "source": [
        "for x in patterns:\n",
        "  print('searching for  , ',x)\n",
        "  if re.search(x, text):\n",
        "    print('match was found')\n",
        "    else:\n",
        "      print('')"
      ],
      "metadata": {
        "colab": {
          "base_uri": "https://localhost:8080/",
          "height": 146
        },
        "id": "-ilMKbQwtwOw",
        "outputId": "74dfe05a-cf9d-4961-d7b7-7728c4ec44ee"
      },
      "execution_count": null,
      "outputs": [
        {
          "output_type": "error",
          "ename": "NameError",
          "evalue": "name 'text' is not defined",
          "traceback": [
            "\u001b[0;31m---------------------------------------------------------------------------\u001b[0m",
            "\u001b[0;31mNameError\u001b[0m                                 Traceback (most recent call last)",
            "\u001b[0;32m<ipython-input-24-aa785adca3fc>\u001b[0m in \u001b[0;36m<cell line: 1>\u001b[0;34m()\u001b[0m\n\u001b[0;32m----> 1\u001b[0;31m \u001b[0mtext\u001b[0m\u001b[0;34m\u001b[0m\u001b[0;34m\u001b[0m\u001b[0m\n\u001b[0m",
            "\u001b[0;31mNameError\u001b[0m: name 'text' is not defined"
          ]
        }
      ]
    },
    {
      "cell_type": "code",
      "source": [],
      "metadata": {
        "id": "BLxNxgartwSR"
      },
      "execution_count": null,
      "outputs": []
    }
  ]
}