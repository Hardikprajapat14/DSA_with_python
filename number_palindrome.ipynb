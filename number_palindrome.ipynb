{
  "nbformat": 4,
  "nbformat_minor": 0,
  "metadata": {
    "colab": {
      "provenance": []
    },
    "kernelspec": {
      "name": "python3",
      "display_name": "Python 3"
    },
    "language_info": {
      "name": "python"
    }
  },
  "cells": [
    {
      "cell_type": "code",
      "execution_count": 2,
      "metadata": {
        "colab": {
          "base_uri": "https://localhost:8080/"
        },
        "id": "ER8YchYwF4jq",
        "outputId": "fb0cef73-7436-4ca2-d1b9-e6acc077a540"
      },
      "outputs": [
        {
          "output_type": "stream",
          "name": "stdout",
          "text": [
            "True\n",
            "True\n"
          ]
        }
      ],
      "source": [
        "def is_palindrome(n):\n",
        "  return str(n) == str(n)[::-1]\n",
        "\n",
        "print (is_palindrome(121))\n",
        "print (is_palindrome(323))\n"
      ]
    },
    {
      "cell_type": "code",
      "source": [
        "def is_palindrome(n):\n",
        "  return str(n) == str(n)[::-1]\n",
        "\n",
        "\n",
        "print (is_palindrome(235))"
      ],
      "metadata": {
        "colab": {
          "base_uri": "https://localhost:8080/"
        },
        "id": "5eiw3ErTZsv7",
        "outputId": "f5afc98b-7095-417f-e3b6-6bf4b4b8fd19"
      },
      "execution_count": 5,
      "outputs": [
        {
          "output_type": "stream",
          "name": "stdout",
          "text": [
            "False\n"
          ]
        }
      ]
    },
    {
      "cell_type": "code",
      "source": [],
      "metadata": {
        "id": "E-5IyTa_aECE"
      },
      "execution_count": null,
      "outputs": []
    }
  ]
}