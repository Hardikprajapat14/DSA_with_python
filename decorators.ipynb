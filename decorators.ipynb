{
  "nbformat": 4,
  "nbformat_minor": 0,
  "metadata": {
    "colab": {
      "provenance": []
    },
    "kernelspec": {
      "name": "python3",
      "display_name": "Python 3"
    },
    "language_info": {
      "name": "python"
    }
  },
  "cells": [
    {
      "cell_type": "code",
      "execution_count": 1,
      "metadata": {
        "id": "RX6kLp94MriK"
      },
      "outputs": [],
      "source": [
        "def decorator(func):\n",
        "  def wrapper():\n",
        "    print(\"before function call \")\n",
        "    func()\n",
        "    print(\"After function call\")\n",
        "  return wrapper"
      ]
    },
    {
      "cell_type": "code",
      "source": [
        "@decorator\n",
        "def hello():\n",
        "  print(\"Hardik\")\n",
        ""
      ],
      "metadata": {
        "id": "qX4-mVFUNiF9"
      },
      "execution_count": 2,
      "outputs": []
    },
    {
      "cell_type": "code",
      "source": [
        "hello()"
      ],
      "metadata": {
        "colab": {
          "base_uri": "https://localhost:8080/"
        },
        "id": "EnFuhrBNOg6y",
        "outputId": "6df0e5d2-8187-45e9-918c-845fab2985f2"
      },
      "execution_count": 3,
      "outputs": [
        {
          "output_type": "stream",
          "name": "stdout",
          "text": [
            "before function call \n",
            "Hardik\n",
            "After function call\n"
          ]
        }
      ]
    },
    {
      "cell_type": "code",
      "source": [],
      "metadata": {
        "id": "4uiUpsp9Oiyt"
      },
      "execution_count": null,
      "outputs": []
    }
  ]
}