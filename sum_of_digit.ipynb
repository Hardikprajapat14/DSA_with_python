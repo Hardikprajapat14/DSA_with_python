{
  "nbformat": 4,
  "nbformat_minor": 0,
  "metadata": {
    "colab": {
      "provenance": []
    },
    "kernelspec": {
      "name": "python3",
      "display_name": "Python 3"
    },
    "language_info": {
      "name": "python"
    }
  },
  "cells": [
    {
      "cell_type": "code",
      "execution_count": null,
      "metadata": {
        "colab": {
          "base_uri": "https://localhost:8080/"
        },
        "id": "WkiUmrMfmUmQ",
        "outputId": "e4509139-a076-48b0-9889-131de9e7e79e"
      },
      "outputs": [
        {
          "output_type": "stream",
          "name": "stdout",
          "text": [
            "6\n"
          ]
        }
      ],
      "source": [
        "#using built in function\n",
        "def sum_of_digits(n):\n",
        "   return sum(int(digit) for digit in str(abs(n)))\n",
        "\n",
        "print(sum_of_digits(123))\n"
      ]
    },
    {
      "cell_type": "code",
      "source": [
        "#using logic\n",
        "def sum_of_digit(n):\n",
        "  s = 0\n",
        "  while n > 0:\n",
        "    s+= n % 10\n",
        "    n//= 10\n",
        "  return s\n",
        "\n",
        "num = 666\n",
        "print(sum_of_digits(num))"
      ],
      "metadata": {
        "id": "UcY9fn1jS5dD",
        "colab": {
          "base_uri": "https://localhost:8080/"
        },
        "outputId": "997f5131-d3fb-4ba3-9035-481b224685de"
      },
      "execution_count": 9,
      "outputs": [
        {
          "output_type": "stream",
          "name": "stdout",
          "text": [
            "18\n"
          ]
        }
      ]
    },
    {
      "cell_type": "code",
      "source": [],
      "metadata": {
        "id": "0s8bYEXfCgq1"
      },
      "execution_count": null,
      "outputs": []
    }
  ]
}