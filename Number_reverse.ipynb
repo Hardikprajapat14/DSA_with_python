{
  "nbformat": 4,
  "nbformat_minor": 0,
  "metadata": {
    "colab": {
      "provenance": []
    },
    "kernelspec": {
      "name": "python3",
      "display_name": "Python 3"
    },
    "language_info": {
      "name": "python"
    }
  },
  "cells": [
    {
      "cell_type": "code",
      "execution_count": 7,
      "metadata": {
        "id": "z-7zZf5qfWLN"
      },
      "outputs": [],
      "source": [
        "def reverse_number(n):\n",
        "    return int(str(n)[::-1]) if n >= 0 else -int(str(abs(n))[::-1])\n",
        "\n",
        "\n"
      ]
    },
    {
      "cell_type": "code",
      "source": [
        "  print(reverse_number(1234))"
      ],
      "metadata": {
        "colab": {
          "base_uri": "https://localhost:8080/"
        },
        "id": "Ark_zz-kjeRz",
        "outputId": "680ae781-bc1a-4ab2-b2cd-8a4ebc7bcc95"
      },
      "execution_count": 8,
      "outputs": [
        {
          "output_type": "stream",
          "name": "stdout",
          "text": [
            "4321\n"
          ]
        }
      ]
    },
    {
      "cell_type": "code",
      "source": [
        "#another method\n",
        "\n",
        "def reverse_numb(n):\n",
        "  rev = 0\n",
        "  while n > 0:\n",
        "    rev = rev * 10 + n % 10\n",
        "    n //= 10\n",
        "\n",
        "  return rev\n",
        "\n",
        "print(reverse_numb(12345))\n",
        "\n"
      ],
      "metadata": {
        "colab": {
          "base_uri": "https://localhost:8080/"
        },
        "id": "NlL2BDbJA0c_",
        "outputId": "5224784a-2ff6-471c-e65e-2bf0bb20f2a5"
      },
      "execution_count": 4,
      "outputs": [
        {
          "output_type": "stream",
          "name": "stdout",
          "text": [
            "54321\n"
          ]
        }
      ]
    },
    {
      "cell_type": "code",
      "source": [],
      "metadata": {
        "id": "ePxwx1COA0gT"
      },
      "execution_count": null,
      "outputs": []
    },
    {
      "cell_type": "code",
      "source": [],
      "metadata": {
        "id": "1uMXxWXwkLKU"
      },
      "execution_count": null,
      "outputs": []
    }
  ]
}