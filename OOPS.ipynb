{
  "nbformat": 4,
  "nbformat_minor": 0,
  "metadata": {
    "colab": {
      "provenance": []
    },
    "kernelspec": {
      "name": "python3",
      "display_name": "Python 3"
    },
    "language_info": {
      "name": "python"
    }
  },
  "cells": [
    {
      "cell_type": "code",
      "execution_count": 2,
      "metadata": {
        "id": "onWsYxbsnoG1"
      },
      "outputs": [],
      "source": [
        "#Inheritance\n",
        "class Animal:\n",
        "  def speak(self):\n",
        "    print(\"Animal sound\")\n",
        "\n",
        "class Dog(Animal):\n",
        "  def speak(self):\n",
        "    print(\"bark\")\n"
      ]
    },
    {
      "cell_type": "code",
      "source": [
        "d= Dog()"
      ],
      "metadata": {
        "id": "Vx5z8jbmnz3n"
      },
      "execution_count": 3,
      "outputs": []
    },
    {
      "cell_type": "code",
      "source": [
        "d.speak()"
      ],
      "metadata": {
        "colab": {
          "base_uri": "https://localhost:8080/"
        },
        "id": "VUm5Spye-tH7",
        "outputId": "ef975d7c-5bfb-4cf5-ecbe-dcda4dcfe939"
      },
      "execution_count": 4,
      "outputs": [
        {
          "output_type": "stream",
          "name": "stdout",
          "text": [
            "bark\n"
          ]
        }
      ]
    },
    {
      "cell_type": "code",
      "source": [
        "#Polymorphism\n",
        "class Cat(Animal):\n",
        "  def speak(self):\n",
        "    print(\"Meow\")\n",
        "\n",
        "animal = [Dog(), Cat()]\n",
        "for animal in animal:\n",
        "  animal.speak()\n"
      ],
      "metadata": {
        "colab": {
          "base_uri": "https://localhost:8080/"
        },
        "id": "kSFSwPpY-u04",
        "outputId": "aeb8a7ce-6374-4f8c-94c7-b8efaf2e87ac"
      },
      "execution_count": 6,
      "outputs": [
        {
          "output_type": "stream",
          "name": "stdout",
          "text": [
            "bark\n",
            "Meow\n"
          ]
        }
      ]
    },
    {
      "cell_type": "code",
      "source": [
        "#Encapsulation\n",
        "class Car:\n",
        "  def __init__(self):\n",
        "    self.__speed = 0\n",
        "\n",
        "  def accelerate(self):\n",
        "    self.__speed += 10\n",
        "\n",
        "  def get_speed(self):\n",
        "    return self.__speed\n",
        "\n"
      ],
      "metadata": {
        "id": "7os_cIJED9dx"
      },
      "execution_count": 9,
      "outputs": []
    },
    {
      "cell_type": "code",
      "source": [
        "car = Car()"
      ],
      "metadata": {
        "id": "gRFPqFLxGReF"
      },
      "execution_count": 10,
      "outputs": []
    },
    {
      "cell_type": "code",
      "source": [
        "car.accelerate()"
      ],
      "metadata": {
        "id": "4JsSOZWgHYl_"
      },
      "execution_count": 11,
      "outputs": []
    },
    {
      "cell_type": "code",
      "source": [
        "print(car.get_speed())"
      ],
      "metadata": {
        "colab": {
          "base_uri": "https://localhost:8080/"
        },
        "id": "awpThBl7Ha3I",
        "outputId": "ee670bbf-22cc-4f88-9dec-e0f40a48217b"
      },
      "execution_count": 12,
      "outputs": [
        {
          "output_type": "stream",
          "name": "stdout",
          "text": [
            "10\n"
          ]
        }
      ]
    },
    {
      "cell_type": "code",
      "source": [],
      "metadata": {
        "id": "0cXH62X0Hj-h"
      },
      "execution_count": null,
      "outputs": []
    }
  ]
}