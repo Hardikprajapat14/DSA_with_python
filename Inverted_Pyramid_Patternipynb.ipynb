{
  "nbformat": 4,
  "nbformat_minor": 0,
  "metadata": {
    "colab": {
      "provenance": []
    },
    "kernelspec": {
      "name": "python3",
      "display_name": "Python 3"
    },
    "language_info": {
      "name": "python"
    }
  },
  "cells": [
    {
      "cell_type": "code",
      "execution_count": 3,
      "metadata": {
        "colab": {
          "base_uri": "https://localhost:8080/"
        },
        "id": "ZmcZx_ziOSJo",
        "outputId": "6c8b8016-1554-41bf-e5b5-92d9d4f7171e"
      },
      "outputs": [
        {
          "output_type": "stream",
          "name": "stdout",
          "text": [
            "*****\n",
            "****\n",
            "***\n",
            "**\n",
            "*\n"
          ]
        }
      ],
      "source": [
        "n=5\n",
        "for i in range(n, 0, -1):\n",
        "  print('*' *i)"
      ]
    },
    {
      "cell_type": "code",
      "source": [],
      "metadata": {
        "id": "uxXTBDBNObB0"
      },
      "execution_count": null,
      "outputs": []
    }
  ]
}