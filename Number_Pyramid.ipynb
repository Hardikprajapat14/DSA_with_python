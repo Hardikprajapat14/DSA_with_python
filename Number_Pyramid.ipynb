{
  "nbformat": 4,
  "nbformat_minor": 0,
  "metadata": {
    "colab": {
      "provenance": []
    },
    "kernelspec": {
      "name": "python3",
      "display_name": "Python 3"
    },
    "language_info": {
      "name": "python"
    }
  },
  "cells": [
    {
      "cell_type": "code",
      "execution_count": 2,
      "metadata": {
        "colab": {
          "base_uri": "https://localhost:8080/"
        },
        "id": "lF_YbcZFOt4Z",
        "outputId": "20e11826-2a18-405a-9cbf-c556d47dd77c"
      },
      "outputs": [
        {
          "output_type": "stream",
          "name": "stdout",
          "text": [
            "1\n",
            "12\n",
            "123\n",
            "1234\n",
            "12345\n",
            "123456\n"
          ]
        }
      ],
      "source": [
        "n=6\n",
        "for i in range(1, n+1):\n",
        "  print (\"\".join(str(j) for j in range(1, i+1)))"
      ]
    },
    {
      "cell_type": "code",
      "source": [],
      "metadata": {
        "id": "vMNrWwfnO6Zv"
      },
      "execution_count": null,
      "outputs": []
    }
  ]
}