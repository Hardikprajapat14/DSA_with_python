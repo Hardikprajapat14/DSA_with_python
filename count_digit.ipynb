{
  "nbformat": 4,
  "nbformat_minor": 0,
  "metadata": {
    "colab": {
      "provenance": []
    },
    "kernelspec": {
      "name": "python3",
      "display_name": "Python 3"
    },
    "language_info": {
      "name": "python"
    }
  },
  "cells": [
    {
      "cell_type": "code",
      "execution_count": 1,
      "metadata": {
        "colab": {
          "base_uri": "https://localhost:8080/"
        },
        "id": "hWlVX2seaZS0",
        "outputId": "72e1fc7d-59b5-47ef-9c42-cdf14790df97"
      },
      "outputs": [
        {
          "output_type": "stream",
          "name": "stdout",
          "text": [
            "6\n"
          ]
        }
      ],
      "source": [
        "def count_digit(n):\n",
        "  return len(str(abs(n)))\n",
        "\n",
        "print(count_digit(123456))"
      ]
    },
    {
      "cell_type": "code",
      "source": [
        "def count_digit(n):\n",
        "  return len(str(abs(n)))\n",
        "\n",
        "print(count_digit(123568))"
      ],
      "metadata": {
        "colab": {
          "base_uri": "https://localhost:8080/"
        },
        "id": "7kJlQXXIaqQx",
        "outputId": "44605753-519d-4073-e628-151f46ec634d"
      },
      "execution_count": 2,
      "outputs": [
        {
          "output_type": "stream",
          "name": "stdout",
          "text": [
            "6\n"
          ]
        }
      ]
    },
    {
      "cell_type": "code",
      "source": [],
      "metadata": {
        "id": "2HXC37F1bAcC"
      },
      "execution_count": null,
      "outputs": []
    }
  ]
}