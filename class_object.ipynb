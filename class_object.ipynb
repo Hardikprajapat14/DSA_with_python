{
  "nbformat": 4,
  "nbformat_minor": 0,
  "metadata": {
    "colab": {
      "provenance": []
    },
    "kernelspec": {
      "name": "python3",
      "display_name": "Python 3"
    },
    "language_info": {
      "name": "python"
    }
  },
  "cells": [
    {
      "cell_type": "code",
      "source": [
        "class Car:\n",
        "  def __init__(self, brand , model):\n",
        "    self.brand = brand\n",
        "    self.model = model\n",
        "\n",
        "  def display (self):\n",
        "    print(f\"Car: {self.brand} {self.model}\")\n",
        "\n",
        "car1= Car (\"Tesla\", \"Model s\")\n",
        "car1.display()\n"
      ],
      "metadata": {
        "colab": {
          "base_uri": "https://localhost:8080/"
        },
        "id": "rndFYMJx--Hq",
        "outputId": "475b63d2-df6a-4456-ab9f-333778d6cd98"
      },
      "execution_count": 8,
      "outputs": [
        {
          "output_type": "stream",
          "name": "stdout",
          "text": [
            "Car: Tesla Model s\n"
          ]
        }
      ]
    },
    {
      "cell_type": "code",
      "source": [],
      "metadata": {
        "id": "i-8mYzM1--LG"
      },
      "execution_count": null,
      "outputs": []
    }
  ]
}