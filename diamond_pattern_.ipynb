{
  "nbformat": 4,
  "nbformat_minor": 0,
  "metadata": {
    "colab": {
      "provenance": []
    },
    "kernelspec": {
      "name": "python3",
      "display_name": "Python 3"
    },
    "language_info": {
      "name": "python"
    }
  },
  "cells": [
    {
      "cell_type": "code",
      "execution_count": 2,
      "metadata": {
        "colab": {
          "base_uri": "https://localhost:8080/"
        },
        "id": "tJrc7-7CUmYz",
        "outputId": "69fe4a48-cb79-4e9e-a8a4-57e0d7d46498"
      },
      "outputs": [
        {
          "output_type": "stream",
          "name": "stdout",
          "text": [
            "  *\n",
            " ***\n",
            "*****\n",
            " ***\n",
            "  *\n"
          ]
        }
      ],
      "source": [
        "n = 5\n",
        "for i in range (1 ,n+1, 2):\n",
        "  print (\" \" * ((n-i)//2) + \"*\" * i)\n",
        "\n",
        "for i in range(n-2, 0, -2):\n",
        "  print(\" \" * ((n-i)//2) +  \"*\" *i)"
      ]
    },
    {
      "cell_type": "code",
      "source": [],
      "metadata": {
        "id": "1mn7dJo6V3pL"
      },
      "execution_count": null,
      "outputs": []
    }
  ]
}