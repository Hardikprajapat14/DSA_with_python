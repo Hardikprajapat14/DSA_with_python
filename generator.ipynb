{
  "nbformat": 4,
  "nbformat_minor": 0,
  "metadata": {
    "colab": {
      "provenance": []
    },
    "kernelspec": {
      "name": "python3",
      "display_name": "Python 3"
    },
    "language_info": {
      "name": "python"
    }
  },
  "cells": [
    {
      "cell_type": "code",
      "execution_count": 2,
      "metadata": {
        "colab": {
          "base_uri": "https://localhost:8080/"
        },
        "id": "g1bTVrGwPAxJ",
        "outputId": "e1667e17-d4df-42a9-ca35-02ee60352a4d"
      },
      "outputs": [
        {
          "output_type": "stream",
          "name": "stdout",
          "text": [
            "1\n",
            "2\n",
            "3\n"
          ]
        }
      ],
      "source": [
        "#generator function allows you to declare a function that behaves like an iterator, providing a faster and easier way to create iterators\n",
        "def count_up_to(n):\n",
        "  count = 1\n",
        "  while count <= n:\n",
        "    yield count\n",
        "    count += 1\n",
        "\n",
        "gen = count_up_to(3)\n",
        "for i in gen:\n",
        "  print(i)"
      ]
    },
    {
      "cell_type": "code",
      "source": [],
      "metadata": {
        "id": "xCtwwrwJPrFD"
      },
      "execution_count": null,
      "outputs": []
    }
  ]
}