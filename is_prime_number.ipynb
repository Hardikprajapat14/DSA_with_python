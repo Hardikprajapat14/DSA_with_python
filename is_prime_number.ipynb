{
  "nbformat": 4,
  "nbformat_minor": 0,
  "metadata": {
    "colab": {
      "provenance": []
    },
    "kernelspec": {
      "name": "python3",
      "display_name": "Python 3"
    },
    "language_info": {
      "name": "python"
    }
  },
  "cells": [
    {
      "cell_type": "code",
      "execution_count": 13,
      "metadata": {
        "colab": {
          "base_uri": "https://localhost:8080/"
        },
        "id": "3Rb08eEWFZ0R",
        "outputId": "feee92da-d7e7-49f5-807f-e4bab2ecf479"
      },
      "outputs": [
        {
          "output_type": "stream",
          "name": "stdout",
          "text": [
            "True\n"
          ]
        }
      ],
      "source": [
        "def is_prime(n):\n",
        "  if n < 2:\n",
        "    return False\n",
        "\n",
        "  for i in range(2, int(n**0.5) + 1):\n",
        "      if  n % i == 0:\n",
        "        return False\n",
        "  return True\n",
        "\n",
        "print(is_prime(11))\n",
        "\n",
        "\n",
        "\n"
      ]
    },
    {
      "cell_type": "code",
      "source": [],
      "metadata": {
        "id": "Ao_nuumgGt9R"
      },
      "execution_count": null,
      "outputs": []
    }
  ]
}