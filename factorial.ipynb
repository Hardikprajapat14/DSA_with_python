{
  "nbformat": 4,
  "nbformat_minor": 0,
  "metadata": {
    "colab": {
      "provenance": []
    },
    "kernelspec": {
      "name": "python3",
      "display_name": "Python 3"
    },
    "language_info": {
      "name": "python"
    }
  },
  "cells": [
    {
      "cell_type": "code",
      "execution_count": 4,
      "metadata": {
        "colab": {
          "base_uri": "https://localhost:8080/"
        },
        "id": "LKNVfOv-dYpr",
        "outputId": "4a11a8b7-fc51-42b9-eb94-c63392198702"
      },
      "outputs": [
        {
          "output_type": "stream",
          "name": "stdout",
          "text": [
            "1\n",
            "120\n"
          ]
        }
      ],
      "source": [
        "def factorial(n):\n",
        "  return 1 if n == 0 else n * factorial(n - 1)\n",
        "\n",
        "print (factorial(0))\n",
        "print (factorial(5))"
      ]
    },
    {
      "cell_type": "code",
      "source": [
        "def factorial(n):\n",
        "  return 1 if n == 0 else n * factorial(n-1)\n",
        "\n",
        "print (factorial(7))"
      ],
      "metadata": {
        "colab": {
          "base_uri": "https://localhost:8080/"
        },
        "id": "lbPyhw0SeXrS",
        "outputId": "36e03037-6156-48fa-9111-e1d00821ddf6"
      },
      "execution_count": 11,
      "outputs": [
        {
          "output_type": "stream",
          "name": "stdout",
          "text": [
            "5040\n"
          ]
        }
      ]
    },
    {
      "cell_type": "code",
      "source": [],
      "metadata": {
        "id": "bymgY2EYgf48"
      },
      "execution_count": null,
      "outputs": []
    }
  ]
}