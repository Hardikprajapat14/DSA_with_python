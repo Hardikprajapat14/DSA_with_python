{
  "nbformat": 4,
  "nbformat_minor": 0,
  "metadata": {
    "colab": {
      "provenance": []
    },
    "kernelspec": {
      "name": "python3",
      "display_name": "Python 3"
    },
    "language_info": {
      "name": "python"
    }
  },
  "cells": [
    {
      "cell_type": "code",
      "execution_count": 1,
      "metadata": {
        "id": "iB7Xt9XAQ9Iv"
      },
      "outputs": [],
      "source": [
        "def gcd(a, b):\n",
        "  while b:\n",
        "\n",
        "    a, b = b, a % b\n",
        "\n",
        "    return a"
      ]
    },
    {
      "cell_type": "code",
      "source": [
        "print (gcd(56,44))"
      ],
      "metadata": {
        "colab": {
          "base_uri": "https://localhost:8080/"
        },
        "id": "9DWg8rtsRwdY",
        "outputId": "8f60dcdd-5874-46a1-fd90-09baf367698a"
      },
      "execution_count": 2,
      "outputs": [
        {
          "output_type": "stream",
          "name": "stdout",
          "text": [
            "44\n"
          ]
        }
      ]
    },
    {
      "cell_type": "code",
      "source": [],
      "metadata": {
        "id": "5cHoCKHCR9HD"
      },
      "execution_count": null,
      "outputs": []
    }
  ]
}